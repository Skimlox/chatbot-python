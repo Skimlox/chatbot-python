{
  "nbformat": 4,
  "nbformat_minor": 0,
  "metadata": {
    "colab": {
      "provenance": []
    },
    "kernelspec": {
      "name": "python3",
      "display_name": "Python 3"
    },
    "language_info": {
      "name": "python"
    }
  },
  "cells": [
    {
      "cell_type": "code",
      "execution_count": null,
      "metadata": {
        "id": "ccbZuyq0fArZ"
      },
      "outputs": [],
      "source": [
        "import nltk\n",
        "import string\n",
        "import pandas as pd\n",
        "import nlp_utils as nu\n",
        "import matplotlib.pyplot as plt\n",
        "# Loading necessary libraries"
      ]
    },
    {
      "cell_type": "code",
      "source": [
        "f = open(\"dialogs.txt\", \"r\")\n",
        "print(f.read())\n",
        "# reading the data"
      ],
      "metadata": {
        "id": "JU6tG3f9fCxZ"
      },
      "execution_count": null,
      "outputs": []
    }
  ]
}